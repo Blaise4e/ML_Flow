{
 "cells": [
  {
   "cell_type": "markdown",
   "metadata": {},
   "source": [
    "# Refactor the Taxi Fare Prediction Problem with a Pipeline"
   ]
  },
  {
   "cell_type": "markdown",
   "metadata": {},
   "source": [
    "We will refactor the model you built for the Taxi Fare Prediction Problem using:\n",
    "- Custom encoders for the distance and time features\n",
    "- OneHot Encoder in order to encode the hour and day of week features\n",
    "- SimpleImputer to fill missing values\n",
    "- A simple linear regression\n",
    "- A pipeline to put all together\n",
    "\n",
    "Then: \n",
    "- train this pipeline\n",
    "- apply the pipeline on test data\n",
    "- generate predictions and submit these new predictions to Kaggle"
   ]
  },
  {
   "cell_type": "markdown",
   "metadata": {},
   "source": [
    "## First pipeline"
   ]
  },
  {
   "cell_type": "code",
   "execution_count": 2,
   "metadata": {},
   "outputs": [],
   "source": [
    "# import the train dataset ( 1000 first rows)\n",
    "import pandas as pd\n",
    "df = pd.read_csv('../train.csv',sep=',',nrows=1_000)"
   ]
  },
  {
   "cell_type": "code",
   "execution_count": 3,
   "metadata": {},
   "outputs": [],
   "source": [
    "# prepare X and y\n",
    "X = df.drop('fare_amount', axis=1)\n",
    "y = df.fare_amount"
   ]
  },
  {
   "cell_type": "code",
   "execution_count": 4,
   "metadata": {},
   "outputs": [],
   "source": [
    "# Hold out ( train and test dplit )\n",
    "from sklearn.model_selection import train_test_split\n",
    "X_train, X_test, y_train, y_test = train_test_split(X, y, test_size=0.2, random_state=42)"
   ]
  },
  {
   "cell_type": "code",
   "execution_count": 5,
   "metadata": {},
   "outputs": [
    {
     "data": {
      "text/html": [
       "<div>\n",
       "<style scoped>\n",
       "    .dataframe tbody tr th:only-of-type {\n",
       "        vertical-align: middle;\n",
       "    }\n",
       "\n",
       "    .dataframe tbody tr th {\n",
       "        vertical-align: top;\n",
       "    }\n",
       "\n",
       "    .dataframe thead th {\n",
       "        text-align: right;\n",
       "    }\n",
       "</style>\n",
       "<table border=\"1\" class=\"dataframe\">\n",
       "  <thead>\n",
       "    <tr style=\"text-align: right;\">\n",
       "      <th></th>\n",
       "      <th>key</th>\n",
       "      <th>pickup_datetime</th>\n",
       "      <th>pickup_longitude</th>\n",
       "      <th>pickup_latitude</th>\n",
       "      <th>dropoff_longitude</th>\n",
       "      <th>dropoff_latitude</th>\n",
       "      <th>passenger_count</th>\n",
       "    </tr>\n",
       "  </thead>\n",
       "  <tbody>\n",
       "    <tr>\n",
       "      <th>29</th>\n",
       "      <td>2013-08-11 00:52:00.00000026</td>\n",
       "      <td>2013-08-11 00:52:00 UTC</td>\n",
       "      <td>-73.981020</td>\n",
       "      <td>40.737760</td>\n",
       "      <td>-73.980668</td>\n",
       "      <td>40.730497</td>\n",
       "      <td>2</td>\n",
       "    </tr>\n",
       "    <tr>\n",
       "      <th>535</th>\n",
       "      <td>2013-01-13 13:38:00.000000119</td>\n",
       "      <td>2013-01-13 13:38:00 UTC</td>\n",
       "      <td>-73.989647</td>\n",
       "      <td>40.747290</td>\n",
       "      <td>-73.985648</td>\n",
       "      <td>40.735408</td>\n",
       "      <td>5</td>\n",
       "    </tr>\n",
       "    <tr>\n",
       "      <th>695</th>\n",
       "      <td>2013-11-24 20:54:00.000000162</td>\n",
       "      <td>2013-11-24 20:54:00 UTC</td>\n",
       "      <td>-73.971542</td>\n",
       "      <td>40.750487</td>\n",
       "      <td>-73.988967</td>\n",
       "      <td>40.729940</td>\n",
       "      <td>1</td>\n",
       "    </tr>\n",
       "    <tr>\n",
       "      <th>557</th>\n",
       "      <td>2010-02-03 20:51:29.0000003</td>\n",
       "      <td>2010-02-03 20:51:29 UTC</td>\n",
       "      <td>-73.954191</td>\n",
       "      <td>40.764029</td>\n",
       "      <td>-73.918043</td>\n",
       "      <td>40.766876</td>\n",
       "      <td>1</td>\n",
       "    </tr>\n",
       "    <tr>\n",
       "      <th>836</th>\n",
       "      <td>2012-03-16 07:52:00.000000155</td>\n",
       "      <td>2012-03-16 07:52:00 UTC</td>\n",
       "      <td>-73.960797</td>\n",
       "      <td>40.818232</td>\n",
       "      <td>-73.953255</td>\n",
       "      <td>40.810163</td>\n",
       "      <td>1</td>\n",
       "    </tr>\n",
       "  </tbody>\n",
       "</table>\n",
       "</div>"
      ],
      "text/plain": [
       "                               key          pickup_datetime  pickup_longitude  \\\n",
       "29    2013-08-11 00:52:00.00000026  2013-08-11 00:52:00 UTC        -73.981020   \n",
       "535  2013-01-13 13:38:00.000000119  2013-01-13 13:38:00 UTC        -73.989647   \n",
       "695  2013-11-24 20:54:00.000000162  2013-11-24 20:54:00 UTC        -73.971542   \n",
       "557    2010-02-03 20:51:29.0000003  2010-02-03 20:51:29 UTC        -73.954191   \n",
       "836  2012-03-16 07:52:00.000000155  2012-03-16 07:52:00 UTC        -73.960797   \n",
       "\n",
       "     pickup_latitude  dropoff_longitude  dropoff_latitude  passenger_count  \n",
       "29         40.737760         -73.980668         40.730497                2  \n",
       "535        40.747290         -73.985648         40.735408                5  \n",
       "695        40.750487         -73.988967         40.729940                1  \n",
       "557        40.764029         -73.918043         40.766876                1  \n",
       "836        40.818232         -73.953255         40.810163                1  "
      ]
     },
     "execution_count": 5,
     "metadata": {},
     "output_type": "execute_result"
    }
   ],
   "source": [
    "X_train.head()"
   ]
  },
  {
   "cell_type": "markdown",
   "metadata": {},
   "source": [
    "### Custom transformers"
   ]
  },
  {
   "cell_type": "markdown",
   "metadata": {},
   "source": [
    "With the Taxi Fare Prediction Challenge data, using `BaseEstimator` and `TransformerMixin`, implement:\n",
    "\n",
    "- a transformer that computes the haversine distance between the pickup and dropoff locations\n",
    "- a custom encoder that extracts the time features from `pickup_datetime`"
   ]
  },
  {
   "cell_type": "code",
   "execution_count": 6,
   "metadata": {},
   "outputs": [],
   "source": [
    "import numpy as np\n",
    "\n",
    "def haversine_vectorized(df, \n",
    "                         start_lat=\"pickup_latitude\",\n",
    "                         start_lon=\"pickup_longitude\",\n",
    "                         end_lat=\"dropoff_latitude\",\n",
    "                         end_lon=\"dropoff_longitude\"):\n",
    "    \"\"\" \n",
    "        Calculates the great circle distance between two points \n",
    "        on the earth (specified in decimal degrees).\n",
    "        Vectorized version of the haversine distance for pandas df.\n",
    "        Computes the distance in kms.\n",
    "    \"\"\"\n",
    "\n",
    "    lat_1_rad, lon_1_rad = np.radians(df[start_lat].astype(float)), np.radians(df[start_lon].astype(float))\n",
    "    lat_2_rad, lon_2_rad = np.radians(df[end_lat].astype(float)), np.radians(df[end_lon].astype(float))\n",
    "    dlon = lon_2_rad - lon_1_rad\n",
    "    dlat = lat_2_rad - lat_1_rad\n",
    "\n",
    "    a = np.sin(dlat / 2.0) ** 2 + np.cos(lat_1_rad) * np.cos(lat_2_rad) * np.sin(dlon / 2.0) ** 2\n",
    "    c = 2 * np.arcsin(np.sqrt(a))\n",
    "    return 6371 * c"
   ]
  },
  {
   "cell_type": "code",
   "execution_count": 8,
   "metadata": {},
   "outputs": [],
   "source": [
    "# create a DistanceTransformer\n",
    "from sklearn.base import BaseEstimator, TransformerMixin\n",
    "\n",
    "class DistanceTransformer(BaseEstimator, TransformerMixin):\n",
    "    \"\"\"\n",
    "        Computes the haversine distance between two GPS points.\n",
    "        Returns a copy of the DataFrame X with only one column: 'distance'.\n",
    "    \"\"\"\n",
    "\n",
    "    def __init__(self,\n",
    "                 start_lat=\"pickup_latitude\",\n",
    "                 start_lon=\"pickup_longitude\",\n",
    "                 end_lat=\"dropoff_latitude\",\n",
    "                 end_lon=\"dropoff_longitude\"):\n",
    "        self.start_lat = start_lat\n",
    "        self.start_lon = start_lon\n",
    "        self.end_lat = end_lat\n",
    "        self.end_lon = end_lon\n",
    "\n",
    "\n",
    "    def fit(self, X, y=None):\n",
    "        return self\n",
    "\n",
    "\n",
    "    def transform(self, X, y=None):\n",
    "        X_ = X.copy()\n",
    "        X_[\"distance\"] = haversine_vectorized(X_, \n",
    "                                    self.start_lat, self.start_lon,\n",
    "                                    self.end_lat, self.end_lon)\n",
    "        return X_[['distance']]"
   ]
  },
  {
   "cell_type": "code",
   "execution_count": 9,
   "metadata": {},
   "outputs": [
    {
     "data": {
      "text/html": [
       "<div>\n",
       "<style scoped>\n",
       "    .dataframe tbody tr th:only-of-type {\n",
       "        vertical-align: middle;\n",
       "    }\n",
       "\n",
       "    .dataframe tbody tr th {\n",
       "        vertical-align: top;\n",
       "    }\n",
       "\n",
       "    .dataframe thead th {\n",
       "        text-align: right;\n",
       "    }\n",
       "</style>\n",
       "<table border=\"1\" class=\"dataframe\">\n",
       "  <thead>\n",
       "    <tr style=\"text-align: right;\">\n",
       "      <th></th>\n",
       "      <th>distance</th>\n",
       "    </tr>\n",
       "  </thead>\n",
       "  <tbody>\n",
       "    <tr>\n",
       "      <th>29</th>\n",
       "      <td>0.808153</td>\n",
       "    </tr>\n",
       "    <tr>\n",
       "      <th>535</th>\n",
       "      <td>1.363497</td>\n",
       "    </tr>\n",
       "    <tr>\n",
       "      <th>695</th>\n",
       "      <td>2.715720</td>\n",
       "    </tr>\n",
       "    <tr>\n",
       "      <th>557</th>\n",
       "      <td>3.060721</td>\n",
       "    </tr>\n",
       "    <tr>\n",
       "      <th>836</th>\n",
       "      <td>1.099034</td>\n",
       "    </tr>\n",
       "  </tbody>\n",
       "</table>\n",
       "</div>"
      ],
      "text/plain": [
       "     distance\n",
       "29   0.808153\n",
       "535  1.363497\n",
       "695  2.715720\n",
       "557  3.060721\n",
       "836  1.099034"
      ]
     },
     "execution_count": 9,
     "metadata": {},
     "output_type": "execute_result"
    }
   ],
   "source": [
    "# test the DistanceTransformer\n",
    "\n",
    "dist_trans = DistanceTransformer()\n",
    "distance = dist_trans.fit_transform(X_train, y_train)\n",
    "distance.head()"
   ]
  },
  {
   "cell_type": "code",
   "execution_count": 12,
   "metadata": {},
   "outputs": [],
   "source": [
    "# create a TimeFeaturesEncoder\n",
    "class TimeFeaturesEncoder(BaseEstimator, TransformerMixin):\n",
    "    \"\"\"\n",
    "        Extracts the day of week (dow), the hour, the month and the year from a time column.\n",
    "        Returns a copy of the DataFrame X with only four columns: 'dow', 'hour', 'month', 'year'.\n",
    "    \"\"\"\n",
    "\n",
    "    def __init__(self,time_col ='pickup_datetime', timezone = 'America/New_York'):\n",
    "       self.time_col = time_col\n",
    "       self.timezone = timezone\n",
    "\n",
    "\n",
    "    def fit(self, X, y=None):\n",
    "        return self\n",
    "\n",
    "    def transform(self, X, y=None):\n",
    "        X_ = X.copy()\n",
    "        X_[self.time_col] = pd.to_datetime(X_[self.time_col], format=\"%Y-%m-%d %H:%M:%S %Z\").dt.tz_convert(self.timezone)\n",
    "        X_['dow']=X_[self.time_col].dt.dayofweek\n",
    "        X_['hour'] = X_[self.time_col].dt.hour\n",
    "        X_['month'] = X_[self.time_col].dt.month\n",
    "        X_['year'] = X_[self.time_col].dt.year\n",
    "        X_ = X_.set_index(self.time_col)\n",
    "        \n",
    "        return X_[['dow', 'hour']]"
   ]
  },
  {
   "cell_type": "code",
   "execution_count": 13,
   "metadata": {},
   "outputs": [
    {
     "data": {
      "text/html": [
       "<div>\n",
       "<style scoped>\n",
       "    .dataframe tbody tr th:only-of-type {\n",
       "        vertical-align: middle;\n",
       "    }\n",
       "\n",
       "    .dataframe tbody tr th {\n",
       "        vertical-align: top;\n",
       "    }\n",
       "\n",
       "    .dataframe thead th {\n",
       "        text-align: right;\n",
       "    }\n",
       "</style>\n",
       "<table border=\"1\" class=\"dataframe\">\n",
       "  <thead>\n",
       "    <tr style=\"text-align: right;\">\n",
       "      <th></th>\n",
       "      <th>dow</th>\n",
       "      <th>hour</th>\n",
       "    </tr>\n",
       "    <tr>\n",
       "      <th>pickup_datetime</th>\n",
       "      <th></th>\n",
       "      <th></th>\n",
       "    </tr>\n",
       "  </thead>\n",
       "  <tbody>\n",
       "    <tr>\n",
       "      <th>2013-08-10 20:52:00-04:00</th>\n",
       "      <td>5</td>\n",
       "      <td>20</td>\n",
       "    </tr>\n",
       "    <tr>\n",
       "      <th>2013-01-13 08:38:00-05:00</th>\n",
       "      <td>6</td>\n",
       "      <td>8</td>\n",
       "    </tr>\n",
       "    <tr>\n",
       "      <th>2013-11-24 15:54:00-05:00</th>\n",
       "      <td>6</td>\n",
       "      <td>15</td>\n",
       "    </tr>\n",
       "    <tr>\n",
       "      <th>2010-02-03 15:51:29-05:00</th>\n",
       "      <td>2</td>\n",
       "      <td>15</td>\n",
       "    </tr>\n",
       "    <tr>\n",
       "      <th>2012-03-16 03:52:00-04:00</th>\n",
       "      <td>4</td>\n",
       "      <td>3</td>\n",
       "    </tr>\n",
       "  </tbody>\n",
       "</table>\n",
       "</div>"
      ],
      "text/plain": [
       "                           dow  hour\n",
       "pickup_datetime                     \n",
       "2013-08-10 20:52:00-04:00    5    20\n",
       "2013-01-13 08:38:00-05:00    6     8\n",
       "2013-11-24 15:54:00-05:00    6    15\n",
       "2010-02-03 15:51:29-05:00    2    15\n",
       "2012-03-16 03:52:00-04:00    4     3"
      ]
     },
     "execution_count": 13,
     "metadata": {},
     "output_type": "execute_result"
    }
   ],
   "source": [
    "# test the TimeFeaturesEncoder\n",
    "\n",
    "time_enc = TimeFeaturesEncoder('pickup_datetime')\n",
    "time_features = time_enc.fit_transform(X_train, y_train)\n",
    "time_features.head()"
   ]
  },
  {
   "cell_type": "markdown",
   "metadata": {},
   "source": [
    "###  Prepocessing pipeline"
   ]
  },
  {
   "cell_type": "code",
   "execution_count": 14,
   "metadata": {},
   "outputs": [],
   "source": [
    "# visualizing pipelines in HTML\n",
    "from sklearn import set_config; set_config(display='diagram')"
   ]
  },
  {
   "cell_type": "markdown",
   "metadata": {},
   "source": [
    "#### Distance pipeline\n",
    "\n",
    "Create a pipeline for distances:\n",
    "- convert the pickup and dropoff coordinates into distances with the DistanceTransformer\n",
    "- standardize these distances"
   ]
  },
  {
   "cell_type": "code",
   "execution_count": 15,
   "metadata": {},
   "outputs": [
    {
     "data": {
      "text/html": [
       "<style>#sk-f5451363-42d3-48b8-b956-a42fbb2e4b67 {color: black;background-color: white;}#sk-f5451363-42d3-48b8-b956-a42fbb2e4b67 pre{padding: 0;}#sk-f5451363-42d3-48b8-b956-a42fbb2e4b67 div.sk-toggleable {background-color: white;}#sk-f5451363-42d3-48b8-b956-a42fbb2e4b67 label.sk-toggleable__label {cursor: pointer;display: block;width: 100%;margin-bottom: 0;padding: 0.3em;box-sizing: border-box;text-align: center;}#sk-f5451363-42d3-48b8-b956-a42fbb2e4b67 div.sk-toggleable__content {max-height: 0;max-width: 0;overflow: hidden;text-align: left;background-color: #f0f8ff;}#sk-f5451363-42d3-48b8-b956-a42fbb2e4b67 div.sk-toggleable__content pre {margin: 0.2em;color: black;border-radius: 0.25em;background-color: #f0f8ff;}#sk-f5451363-42d3-48b8-b956-a42fbb2e4b67 input.sk-toggleable__control:checked~div.sk-toggleable__content {max-height: 200px;max-width: 100%;overflow: auto;}#sk-f5451363-42d3-48b8-b956-a42fbb2e4b67 div.sk-estimator input.sk-toggleable__control:checked~label.sk-toggleable__label {background-color: #d4ebff;}#sk-f5451363-42d3-48b8-b956-a42fbb2e4b67 div.sk-label input.sk-toggleable__control:checked~label.sk-toggleable__label {background-color: #d4ebff;}#sk-f5451363-42d3-48b8-b956-a42fbb2e4b67 input.sk-hidden--visually {border: 0;clip: rect(1px 1px 1px 1px);clip: rect(1px, 1px, 1px, 1px);height: 1px;margin: -1px;overflow: hidden;padding: 0;position: absolute;width: 1px;}#sk-f5451363-42d3-48b8-b956-a42fbb2e4b67 div.sk-estimator {font-family: monospace;background-color: #f0f8ff;border: 1px dotted black;border-radius: 0.25em;box-sizing: border-box;margin-bottom: 0.5em;}#sk-f5451363-42d3-48b8-b956-a42fbb2e4b67 div.sk-estimator:hover {background-color: #d4ebff;}#sk-f5451363-42d3-48b8-b956-a42fbb2e4b67 div.sk-parallel-item::after {content: \"\";width: 100%;border-bottom: 1px solid gray;flex-grow: 1;}#sk-f5451363-42d3-48b8-b956-a42fbb2e4b67 div.sk-label:hover label.sk-toggleable__label {background-color: #d4ebff;}#sk-f5451363-42d3-48b8-b956-a42fbb2e4b67 div.sk-serial::before {content: \"\";position: absolute;border-left: 1px solid gray;box-sizing: border-box;top: 2em;bottom: 0;left: 50%;}#sk-f5451363-42d3-48b8-b956-a42fbb2e4b67 div.sk-serial {display: flex;flex-direction: column;align-items: center;background-color: white;padding-right: 0.2em;padding-left: 0.2em;}#sk-f5451363-42d3-48b8-b956-a42fbb2e4b67 div.sk-item {z-index: 1;}#sk-f5451363-42d3-48b8-b956-a42fbb2e4b67 div.sk-parallel {display: flex;align-items: stretch;justify-content: center;background-color: white;}#sk-f5451363-42d3-48b8-b956-a42fbb2e4b67 div.sk-parallel::before {content: \"\";position: absolute;border-left: 1px solid gray;box-sizing: border-box;top: 2em;bottom: 0;left: 50%;}#sk-f5451363-42d3-48b8-b956-a42fbb2e4b67 div.sk-parallel-item {display: flex;flex-direction: column;position: relative;background-color: white;}#sk-f5451363-42d3-48b8-b956-a42fbb2e4b67 div.sk-parallel-item:first-child::after {align-self: flex-end;width: 50%;}#sk-f5451363-42d3-48b8-b956-a42fbb2e4b67 div.sk-parallel-item:last-child::after {align-self: flex-start;width: 50%;}#sk-f5451363-42d3-48b8-b956-a42fbb2e4b67 div.sk-parallel-item:only-child::after {width: 0;}#sk-f5451363-42d3-48b8-b956-a42fbb2e4b67 div.sk-dashed-wrapped {border: 1px dashed gray;margin: 0 0.4em 0.5em 0.4em;box-sizing: border-box;padding-bottom: 0.4em;background-color: white;position: relative;}#sk-f5451363-42d3-48b8-b956-a42fbb2e4b67 div.sk-label label {font-family: monospace;font-weight: bold;background-color: white;display: inline-block;line-height: 1.2em;}#sk-f5451363-42d3-48b8-b956-a42fbb2e4b67 div.sk-label-container {position: relative;z-index: 2;text-align: center;}#sk-f5451363-42d3-48b8-b956-a42fbb2e4b67 div.sk-container {display: inline-block;position: relative;}</style><div id=\"sk-f5451363-42d3-48b8-b956-a42fbb2e4b67\" class\"sk-top-container\"><div class=\"sk-container\"><div class=\"sk-item sk-dashed-wrapped\"><div class=\"sk-label-container\"><div class=\"sk-label sk-toggleable\"><input class=\"sk-toggleable__control sk-hidden--visually\" id=\"99d84b24-526f-4507-93e7-ded99026b5bc\" type=\"checkbox\" ><label class=\"sk-toggleable__label\" for=\"99d84b24-526f-4507-93e7-ded99026b5bc\">Pipeline</label><div class=\"sk-toggleable__content\"><pre>Pipeline(steps=[('dist_transformer', DistanceTransformer()),\n",
       "                ('std_scaler', StandardScaler())])</pre></div></div></div><div class=\"sk-serial\"><div class=\"sk-item\"><div class=\"sk-estimator sk-toggleable\"><input class=\"sk-toggleable__control sk-hidden--visually\" id=\"1aae3d56-b62b-4acf-800f-88b88e3b544d\" type=\"checkbox\" ><label class=\"sk-toggleable__label\" for=\"1aae3d56-b62b-4acf-800f-88b88e3b544d\">DistanceTransformer</label><div class=\"sk-toggleable__content\"><pre>DistanceTransformer()</pre></div></div></div><div class=\"sk-item\"><div class=\"sk-estimator sk-toggleable\"><input class=\"sk-toggleable__control sk-hidden--visually\" id=\"e942e429-05fc-41ed-a5ab-f18630417031\" type=\"checkbox\" ><label class=\"sk-toggleable__label\" for=\"e942e429-05fc-41ed-a5ab-f18630417031\">StandardScaler</label><div class=\"sk-toggleable__content\"><pre>StandardScaler()</pre></div></div></div></div></div></div></div>"
      ],
      "text/plain": [
       "Pipeline(steps=[('dist_transformer', DistanceTransformer()),\n",
       "                ('std_scaler', StandardScaler())])"
      ]
     },
     "execution_count": 15,
     "metadata": {},
     "output_type": "execute_result"
    }
   ],
   "source": [
    "\n",
    "# create distance pipeline dist_pipe\n",
    "from sklearn.pipeline import Pipeline\n",
    "from sklearn.preprocessing import StandardScaler\n",
    "# create distance pipeline dist_pipe\n",
    "dist_pipe = Pipeline([('dist_transformer',DistanceTransformer()),('std_scaler',StandardScaler())])\n",
    "\n",
    "# display distance pipeline\n",
    "dist_pipe"
   ]
  },
  {
   "cell_type": "markdown",
   "metadata": {},
   "source": [
    "#### Time features pipeline\n",
    "\n",
    "Create a pipeline for time features\n",
    "- extract time features from pickup datetime with the TimeFeaturesEncoder\n",
    "- encode these categorical time features with the OneHotEncoder"
   ]
  },
  {
   "cell_type": "code",
   "execution_count": 16,
   "metadata": {},
   "outputs": [
    {
     "data": {
      "text/html": [
       "<style>#sk-d37ace0b-b0c0-4de8-be3a-a2b5bc047c97 {color: black;background-color: white;}#sk-d37ace0b-b0c0-4de8-be3a-a2b5bc047c97 pre{padding: 0;}#sk-d37ace0b-b0c0-4de8-be3a-a2b5bc047c97 div.sk-toggleable {background-color: white;}#sk-d37ace0b-b0c0-4de8-be3a-a2b5bc047c97 label.sk-toggleable__label {cursor: pointer;display: block;width: 100%;margin-bottom: 0;padding: 0.3em;box-sizing: border-box;text-align: center;}#sk-d37ace0b-b0c0-4de8-be3a-a2b5bc047c97 div.sk-toggleable__content {max-height: 0;max-width: 0;overflow: hidden;text-align: left;background-color: #f0f8ff;}#sk-d37ace0b-b0c0-4de8-be3a-a2b5bc047c97 div.sk-toggleable__content pre {margin: 0.2em;color: black;border-radius: 0.25em;background-color: #f0f8ff;}#sk-d37ace0b-b0c0-4de8-be3a-a2b5bc047c97 input.sk-toggleable__control:checked~div.sk-toggleable__content {max-height: 200px;max-width: 100%;overflow: auto;}#sk-d37ace0b-b0c0-4de8-be3a-a2b5bc047c97 div.sk-estimator input.sk-toggleable__control:checked~label.sk-toggleable__label {background-color: #d4ebff;}#sk-d37ace0b-b0c0-4de8-be3a-a2b5bc047c97 div.sk-label input.sk-toggleable__control:checked~label.sk-toggleable__label {background-color: #d4ebff;}#sk-d37ace0b-b0c0-4de8-be3a-a2b5bc047c97 input.sk-hidden--visually {border: 0;clip: rect(1px 1px 1px 1px);clip: rect(1px, 1px, 1px, 1px);height: 1px;margin: -1px;overflow: hidden;padding: 0;position: absolute;width: 1px;}#sk-d37ace0b-b0c0-4de8-be3a-a2b5bc047c97 div.sk-estimator {font-family: monospace;background-color: #f0f8ff;border: 1px dotted black;border-radius: 0.25em;box-sizing: border-box;margin-bottom: 0.5em;}#sk-d37ace0b-b0c0-4de8-be3a-a2b5bc047c97 div.sk-estimator:hover {background-color: #d4ebff;}#sk-d37ace0b-b0c0-4de8-be3a-a2b5bc047c97 div.sk-parallel-item::after {content: \"\";width: 100%;border-bottom: 1px solid gray;flex-grow: 1;}#sk-d37ace0b-b0c0-4de8-be3a-a2b5bc047c97 div.sk-label:hover label.sk-toggleable__label {background-color: #d4ebff;}#sk-d37ace0b-b0c0-4de8-be3a-a2b5bc047c97 div.sk-serial::before {content: \"\";position: absolute;border-left: 1px solid gray;box-sizing: border-box;top: 2em;bottom: 0;left: 50%;}#sk-d37ace0b-b0c0-4de8-be3a-a2b5bc047c97 div.sk-serial {display: flex;flex-direction: column;align-items: center;background-color: white;padding-right: 0.2em;padding-left: 0.2em;}#sk-d37ace0b-b0c0-4de8-be3a-a2b5bc047c97 div.sk-item {z-index: 1;}#sk-d37ace0b-b0c0-4de8-be3a-a2b5bc047c97 div.sk-parallel {display: flex;align-items: stretch;justify-content: center;background-color: white;}#sk-d37ace0b-b0c0-4de8-be3a-a2b5bc047c97 div.sk-parallel::before {content: \"\";position: absolute;border-left: 1px solid gray;box-sizing: border-box;top: 2em;bottom: 0;left: 50%;}#sk-d37ace0b-b0c0-4de8-be3a-a2b5bc047c97 div.sk-parallel-item {display: flex;flex-direction: column;position: relative;background-color: white;}#sk-d37ace0b-b0c0-4de8-be3a-a2b5bc047c97 div.sk-parallel-item:first-child::after {align-self: flex-end;width: 50%;}#sk-d37ace0b-b0c0-4de8-be3a-a2b5bc047c97 div.sk-parallel-item:last-child::after {align-self: flex-start;width: 50%;}#sk-d37ace0b-b0c0-4de8-be3a-a2b5bc047c97 div.sk-parallel-item:only-child::after {width: 0;}#sk-d37ace0b-b0c0-4de8-be3a-a2b5bc047c97 div.sk-dashed-wrapped {border: 1px dashed gray;margin: 0 0.4em 0.5em 0.4em;box-sizing: border-box;padding-bottom: 0.4em;background-color: white;position: relative;}#sk-d37ace0b-b0c0-4de8-be3a-a2b5bc047c97 div.sk-label label {font-family: monospace;font-weight: bold;background-color: white;display: inline-block;line-height: 1.2em;}#sk-d37ace0b-b0c0-4de8-be3a-a2b5bc047c97 div.sk-label-container {position: relative;z-index: 2;text-align: center;}#sk-d37ace0b-b0c0-4de8-be3a-a2b5bc047c97 div.sk-container {display: inline-block;position: relative;}</style><div id=\"sk-d37ace0b-b0c0-4de8-be3a-a2b5bc047c97\" class\"sk-top-container\"><div class=\"sk-container\"><div class=\"sk-item sk-dashed-wrapped\"><div class=\"sk-label-container\"><div class=\"sk-label sk-toggleable\"><input class=\"sk-toggleable__control sk-hidden--visually\" id=\"fecc76d8-c2e9-47f1-83ba-959585ac6294\" type=\"checkbox\" ><label class=\"sk-toggleable__label\" for=\"fecc76d8-c2e9-47f1-83ba-959585ac6294\">Pipeline</label><div class=\"sk-toggleable__content\"><pre>Pipeline(steps=[('time_encoder', TimeFeaturesEncoder()),\n",
       "                ('one_hot', OneHotEncoder(handle_unknown='ignore'))])</pre></div></div></div><div class=\"sk-serial\"><div class=\"sk-item\"><div class=\"sk-estimator sk-toggleable\"><input class=\"sk-toggleable__control sk-hidden--visually\" id=\"cf0902da-63d7-4b23-b7e1-60599fba742e\" type=\"checkbox\" ><label class=\"sk-toggleable__label\" for=\"cf0902da-63d7-4b23-b7e1-60599fba742e\">TimeFeaturesEncoder</label><div class=\"sk-toggleable__content\"><pre>TimeFeaturesEncoder()</pre></div></div></div><div class=\"sk-item\"><div class=\"sk-estimator sk-toggleable\"><input class=\"sk-toggleable__control sk-hidden--visually\" id=\"905a9644-737f-4270-9f4d-65b7f17816fe\" type=\"checkbox\" ><label class=\"sk-toggleable__label\" for=\"905a9644-737f-4270-9f4d-65b7f17816fe\">OneHotEncoder</label><div class=\"sk-toggleable__content\"><pre>OneHotEncoder(handle_unknown='ignore')</pre></div></div></div></div></div></div></div>"
      ],
      "text/plain": [
       "Pipeline(steps=[('time_encoder', TimeFeaturesEncoder()),\n",
       "                ('one_hot', OneHotEncoder(handle_unknown='ignore'))])"
      ]
     },
     "execution_count": 16,
     "metadata": {},
     "output_type": "execute_result"
    }
   ],
   "source": [
    "from sklearn.preprocessing import OneHotEncoder\n",
    "# create time pipeline time_pipe\n",
    "# time_cat_transformer = OneHotEncoder()\n",
    "time_pipe = Pipeline([('time_encoder',TimeFeaturesEncoder()),('one_hot',OneHotEncoder(handle_unknown=\"ignore\"))])\n",
    "\n",
    "# display time pipeline\n",
    "time_pipe"
   ]
  },
  {
   "cell_type": "markdown",
   "metadata": {},
   "source": [
    "#### Preprocessing pipeline\n",
    "\n",
    "Wrap up the distance pipeline and the time pipeline into a preprocessing pipeline."
   ]
  },
  {
   "cell_type": "code",
   "execution_count": 17,
   "metadata": {},
   "outputs": [
    {
     "data": {
      "text/html": [
       "<style>#sk-f0012454-e9dc-4420-b722-0c99290f2bfc {color: black;background-color: white;}#sk-f0012454-e9dc-4420-b722-0c99290f2bfc pre{padding: 0;}#sk-f0012454-e9dc-4420-b722-0c99290f2bfc div.sk-toggleable {background-color: white;}#sk-f0012454-e9dc-4420-b722-0c99290f2bfc label.sk-toggleable__label {cursor: pointer;display: block;width: 100%;margin-bottom: 0;padding: 0.3em;box-sizing: border-box;text-align: center;}#sk-f0012454-e9dc-4420-b722-0c99290f2bfc div.sk-toggleable__content {max-height: 0;max-width: 0;overflow: hidden;text-align: left;background-color: #f0f8ff;}#sk-f0012454-e9dc-4420-b722-0c99290f2bfc div.sk-toggleable__content pre {margin: 0.2em;color: black;border-radius: 0.25em;background-color: #f0f8ff;}#sk-f0012454-e9dc-4420-b722-0c99290f2bfc input.sk-toggleable__control:checked~div.sk-toggleable__content {max-height: 200px;max-width: 100%;overflow: auto;}#sk-f0012454-e9dc-4420-b722-0c99290f2bfc div.sk-estimator input.sk-toggleable__control:checked~label.sk-toggleable__label {background-color: #d4ebff;}#sk-f0012454-e9dc-4420-b722-0c99290f2bfc div.sk-label input.sk-toggleable__control:checked~label.sk-toggleable__label {background-color: #d4ebff;}#sk-f0012454-e9dc-4420-b722-0c99290f2bfc input.sk-hidden--visually {border: 0;clip: rect(1px 1px 1px 1px);clip: rect(1px, 1px, 1px, 1px);height: 1px;margin: -1px;overflow: hidden;padding: 0;position: absolute;width: 1px;}#sk-f0012454-e9dc-4420-b722-0c99290f2bfc div.sk-estimator {font-family: monospace;background-color: #f0f8ff;border: 1px dotted black;border-radius: 0.25em;box-sizing: border-box;margin-bottom: 0.5em;}#sk-f0012454-e9dc-4420-b722-0c99290f2bfc div.sk-estimator:hover {background-color: #d4ebff;}#sk-f0012454-e9dc-4420-b722-0c99290f2bfc div.sk-parallel-item::after {content: \"\";width: 100%;border-bottom: 1px solid gray;flex-grow: 1;}#sk-f0012454-e9dc-4420-b722-0c99290f2bfc div.sk-label:hover label.sk-toggleable__label {background-color: #d4ebff;}#sk-f0012454-e9dc-4420-b722-0c99290f2bfc div.sk-serial::before {content: \"\";position: absolute;border-left: 1px solid gray;box-sizing: border-box;top: 2em;bottom: 0;left: 50%;}#sk-f0012454-e9dc-4420-b722-0c99290f2bfc div.sk-serial {display: flex;flex-direction: column;align-items: center;background-color: white;padding-right: 0.2em;padding-left: 0.2em;}#sk-f0012454-e9dc-4420-b722-0c99290f2bfc div.sk-item {z-index: 1;}#sk-f0012454-e9dc-4420-b722-0c99290f2bfc div.sk-parallel {display: flex;align-items: stretch;justify-content: center;background-color: white;}#sk-f0012454-e9dc-4420-b722-0c99290f2bfc div.sk-parallel::before {content: \"\";position: absolute;border-left: 1px solid gray;box-sizing: border-box;top: 2em;bottom: 0;left: 50%;}#sk-f0012454-e9dc-4420-b722-0c99290f2bfc div.sk-parallel-item {display: flex;flex-direction: column;position: relative;background-color: white;}#sk-f0012454-e9dc-4420-b722-0c99290f2bfc div.sk-parallel-item:first-child::after {align-self: flex-end;width: 50%;}#sk-f0012454-e9dc-4420-b722-0c99290f2bfc div.sk-parallel-item:last-child::after {align-self: flex-start;width: 50%;}#sk-f0012454-e9dc-4420-b722-0c99290f2bfc div.sk-parallel-item:only-child::after {width: 0;}#sk-f0012454-e9dc-4420-b722-0c99290f2bfc div.sk-dashed-wrapped {border: 1px dashed gray;margin: 0 0.4em 0.5em 0.4em;box-sizing: border-box;padding-bottom: 0.4em;background-color: white;position: relative;}#sk-f0012454-e9dc-4420-b722-0c99290f2bfc div.sk-label label {font-family: monospace;font-weight: bold;background-color: white;display: inline-block;line-height: 1.2em;}#sk-f0012454-e9dc-4420-b722-0c99290f2bfc div.sk-label-container {position: relative;z-index: 2;text-align: center;}#sk-f0012454-e9dc-4420-b722-0c99290f2bfc div.sk-container {display: inline-block;position: relative;}</style><div id=\"sk-f0012454-e9dc-4420-b722-0c99290f2bfc\" class\"sk-top-container\"><div class=\"sk-container\"><div class=\"sk-item sk-dashed-wrapped\"><div class=\"sk-label-container\"><div class=\"sk-label sk-toggleable\"><input class=\"sk-toggleable__control sk-hidden--visually\" id=\"add3d589-a7f9-403a-ba3a-fbeaf73f9691\" type=\"checkbox\" ><label class=\"sk-toggleable__label\" for=\"add3d589-a7f9-403a-ba3a-fbeaf73f9691\">ColumnTransformer</label><div class=\"sk-toggleable__content\"><pre>ColumnTransformer(transformers=[('time_pipe',\n",
       "                                 Pipeline(steps=[('time_encoder',\n",
       "                                                  TimeFeaturesEncoder()),\n",
       "                                                 ('one_hot',\n",
       "                                                  OneHotEncoder(handle_unknown='ignore'))]),\n",
       "                                 ['pickup_datetime']),\n",
       "                                ('dist_pipe',\n",
       "                                 Pipeline(steps=[('dist_transformer',\n",
       "                                                  DistanceTransformer()),\n",
       "                                                 ('std_scaler',\n",
       "                                                  StandardScaler())]),\n",
       "                                 ['pickup_longitude', 'pickup_latitude',\n",
       "                                  'dropoff_longitude', 'dropoff_latitude'])])</pre></div></div></div><div class=\"sk-parallel\"><div class=\"sk-parallel-item\"><div class=\"sk-item\"><div class=\"sk-label-container\"><div class=\"sk-label sk-toggleable\"><input class=\"sk-toggleable__control sk-hidden--visually\" id=\"9aeb0d08-68ce-4b72-8f3d-39cd04caf344\" type=\"checkbox\" ><label class=\"sk-toggleable__label\" for=\"9aeb0d08-68ce-4b72-8f3d-39cd04caf344\">time_pipe</label><div class=\"sk-toggleable__content\"><pre>['pickup_datetime']</pre></div></div></div><div class=\"sk-serial\"><div class=\"sk-item\"><div class=\"sk-serial\"><div class=\"sk-item\"><div class=\"sk-estimator sk-toggleable\"><input class=\"sk-toggleable__control sk-hidden--visually\" id=\"f8f44a76-7b11-4d31-9d1b-852d48452a05\" type=\"checkbox\" ><label class=\"sk-toggleable__label\" for=\"f8f44a76-7b11-4d31-9d1b-852d48452a05\">TimeFeaturesEncoder</label><div class=\"sk-toggleable__content\"><pre>TimeFeaturesEncoder()</pre></div></div></div><div class=\"sk-item\"><div class=\"sk-estimator sk-toggleable\"><input class=\"sk-toggleable__control sk-hidden--visually\" id=\"2a19875c-9000-4721-9a46-58afaf79a2b3\" type=\"checkbox\" ><label class=\"sk-toggleable__label\" for=\"2a19875c-9000-4721-9a46-58afaf79a2b3\">OneHotEncoder</label><div class=\"sk-toggleable__content\"><pre>OneHotEncoder(handle_unknown='ignore')</pre></div></div></div></div></div></div></div></div><div class=\"sk-parallel-item\"><div class=\"sk-item\"><div class=\"sk-label-container\"><div class=\"sk-label sk-toggleable\"><input class=\"sk-toggleable__control sk-hidden--visually\" id=\"ba1d5552-0434-46bf-a093-7fefac77ee34\" type=\"checkbox\" ><label class=\"sk-toggleable__label\" for=\"ba1d5552-0434-46bf-a093-7fefac77ee34\">dist_pipe</label><div class=\"sk-toggleable__content\"><pre>['pickup_longitude', 'pickup_latitude', 'dropoff_longitude', 'dropoff_latitude']</pre></div></div></div><div class=\"sk-serial\"><div class=\"sk-item\"><div class=\"sk-serial\"><div class=\"sk-item\"><div class=\"sk-estimator sk-toggleable\"><input class=\"sk-toggleable__control sk-hidden--visually\" id=\"adb54043-aec7-4484-ba30-ea716d2ed1d5\" type=\"checkbox\" ><label class=\"sk-toggleable__label\" for=\"adb54043-aec7-4484-ba30-ea716d2ed1d5\">DistanceTransformer</label><div class=\"sk-toggleable__content\"><pre>DistanceTransformer()</pre></div></div></div><div class=\"sk-item\"><div class=\"sk-estimator sk-toggleable\"><input class=\"sk-toggleable__control sk-hidden--visually\" id=\"53492f6b-746f-439a-bb0e-af6754f95d44\" type=\"checkbox\" ><label class=\"sk-toggleable__label\" for=\"53492f6b-746f-439a-bb0e-af6754f95d44\">StandardScaler</label><div class=\"sk-toggleable__content\"><pre>StandardScaler()</pre></div></div></div></div></div></div></div></div></div></div></div></div>"
      ],
      "text/plain": [
       "ColumnTransformer(transformers=[('time_pipe',\n",
       "                                 Pipeline(steps=[('time_encoder',\n",
       "                                                  TimeFeaturesEncoder()),\n",
       "                                                 ('one_hot',\n",
       "                                                  OneHotEncoder(handle_unknown='ignore'))]),\n",
       "                                 ['pickup_datetime']),\n",
       "                                ('dist_pipe',\n",
       "                                 Pipeline(steps=[('dist_transformer',\n",
       "                                                  DistanceTransformer()),\n",
       "                                                 ('std_scaler',\n",
       "                                                  StandardScaler())]),\n",
       "                                 ['pickup_longitude', 'pickup_latitude',\n",
       "                                  'dropoff_longitude', 'dropoff_latitude'])])"
      ]
     },
     "execution_count": 17,
     "metadata": {},
     "output_type": "execute_result"
    }
   ],
   "source": [
    "from sklearn.compose import ColumnTransformer\n",
    "# create preprocessing pipeline preproc_pipe\n",
    "Preprocessor = ColumnTransformer([\n",
    "    ('time_pipe',time_pipe,['pickup_datetime']),\n",
    "    ('dist_pipe',dist_pipe,['pickup_longitude', 'pickup_latitude','dropoff_longitude', 'dropoff_latitude'])\n",
    "    ])\n",
    "# display preprocessing pipeline\n",
    "Preprocessor"
   ]
  },
  {
   "cell_type": "markdown",
   "metadata": {},
   "source": [
    "### Model pipeline\n",
    "\n",
    "Create a pipeline containing the preprocessing and the regression model of your choice."
   ]
  },
  {
   "cell_type": "code",
   "execution_count": 18,
   "metadata": {},
   "outputs": [
    {
     "data": {
      "text/html": [
       "<style>#sk-fc134619-9e06-4686-931e-ceee53554df2 {color: black;background-color: white;}#sk-fc134619-9e06-4686-931e-ceee53554df2 pre{padding: 0;}#sk-fc134619-9e06-4686-931e-ceee53554df2 div.sk-toggleable {background-color: white;}#sk-fc134619-9e06-4686-931e-ceee53554df2 label.sk-toggleable__label {cursor: pointer;display: block;width: 100%;margin-bottom: 0;padding: 0.3em;box-sizing: border-box;text-align: center;}#sk-fc134619-9e06-4686-931e-ceee53554df2 div.sk-toggleable__content {max-height: 0;max-width: 0;overflow: hidden;text-align: left;background-color: #f0f8ff;}#sk-fc134619-9e06-4686-931e-ceee53554df2 div.sk-toggleable__content pre {margin: 0.2em;color: black;border-radius: 0.25em;background-color: #f0f8ff;}#sk-fc134619-9e06-4686-931e-ceee53554df2 input.sk-toggleable__control:checked~div.sk-toggleable__content {max-height: 200px;max-width: 100%;overflow: auto;}#sk-fc134619-9e06-4686-931e-ceee53554df2 div.sk-estimator input.sk-toggleable__control:checked~label.sk-toggleable__label {background-color: #d4ebff;}#sk-fc134619-9e06-4686-931e-ceee53554df2 div.sk-label input.sk-toggleable__control:checked~label.sk-toggleable__label {background-color: #d4ebff;}#sk-fc134619-9e06-4686-931e-ceee53554df2 input.sk-hidden--visually {border: 0;clip: rect(1px 1px 1px 1px);clip: rect(1px, 1px, 1px, 1px);height: 1px;margin: -1px;overflow: hidden;padding: 0;position: absolute;width: 1px;}#sk-fc134619-9e06-4686-931e-ceee53554df2 div.sk-estimator {font-family: monospace;background-color: #f0f8ff;border: 1px dotted black;border-radius: 0.25em;box-sizing: border-box;margin-bottom: 0.5em;}#sk-fc134619-9e06-4686-931e-ceee53554df2 div.sk-estimator:hover {background-color: #d4ebff;}#sk-fc134619-9e06-4686-931e-ceee53554df2 div.sk-parallel-item::after {content: \"\";width: 100%;border-bottom: 1px solid gray;flex-grow: 1;}#sk-fc134619-9e06-4686-931e-ceee53554df2 div.sk-label:hover label.sk-toggleable__label {background-color: #d4ebff;}#sk-fc134619-9e06-4686-931e-ceee53554df2 div.sk-serial::before {content: \"\";position: absolute;border-left: 1px solid gray;box-sizing: border-box;top: 2em;bottom: 0;left: 50%;}#sk-fc134619-9e06-4686-931e-ceee53554df2 div.sk-serial {display: flex;flex-direction: column;align-items: center;background-color: white;padding-right: 0.2em;padding-left: 0.2em;}#sk-fc134619-9e06-4686-931e-ceee53554df2 div.sk-item {z-index: 1;}#sk-fc134619-9e06-4686-931e-ceee53554df2 div.sk-parallel {display: flex;align-items: stretch;justify-content: center;background-color: white;}#sk-fc134619-9e06-4686-931e-ceee53554df2 div.sk-parallel::before {content: \"\";position: absolute;border-left: 1px solid gray;box-sizing: border-box;top: 2em;bottom: 0;left: 50%;}#sk-fc134619-9e06-4686-931e-ceee53554df2 div.sk-parallel-item {display: flex;flex-direction: column;position: relative;background-color: white;}#sk-fc134619-9e06-4686-931e-ceee53554df2 div.sk-parallel-item:first-child::after {align-self: flex-end;width: 50%;}#sk-fc134619-9e06-4686-931e-ceee53554df2 div.sk-parallel-item:last-child::after {align-self: flex-start;width: 50%;}#sk-fc134619-9e06-4686-931e-ceee53554df2 div.sk-parallel-item:only-child::after {width: 0;}#sk-fc134619-9e06-4686-931e-ceee53554df2 div.sk-dashed-wrapped {border: 1px dashed gray;margin: 0 0.4em 0.5em 0.4em;box-sizing: border-box;padding-bottom: 0.4em;background-color: white;position: relative;}#sk-fc134619-9e06-4686-931e-ceee53554df2 div.sk-label label {font-family: monospace;font-weight: bold;background-color: white;display: inline-block;line-height: 1.2em;}#sk-fc134619-9e06-4686-931e-ceee53554df2 div.sk-label-container {position: relative;z-index: 2;text-align: center;}#sk-fc134619-9e06-4686-931e-ceee53554df2 div.sk-container {display: inline-block;position: relative;}</style><div id=\"sk-fc134619-9e06-4686-931e-ceee53554df2\" class\"sk-top-container\"><div class=\"sk-container\"><div class=\"sk-item sk-dashed-wrapped\"><div class=\"sk-label-container\"><div class=\"sk-label sk-toggleable\"><input class=\"sk-toggleable__control sk-hidden--visually\" id=\"2e79faea-c6fb-47df-af94-01297c2e40bc\" type=\"checkbox\" ><label class=\"sk-toggleable__label\" for=\"2e79faea-c6fb-47df-af94-01297c2e40bc\">Pipeline</label><div class=\"sk-toggleable__content\"><pre>Pipeline(steps=[('preprocessing',\n",
       "                 ColumnTransformer(transformers=[('time_pipe',\n",
       "                                                  Pipeline(steps=[('time_encoder',\n",
       "                                                                   TimeFeaturesEncoder()),\n",
       "                                                                  ('one_hot',\n",
       "                                                                   OneHotEncoder(handle_unknown='ignore'))]),\n",
       "                                                  ['pickup_datetime']),\n",
       "                                                 ('dist_pipe',\n",
       "                                                  Pipeline(steps=[('dist_transformer',\n",
       "                                                                   DistanceTransformer()),\n",
       "                                                                  ('std_scaler',\n",
       "                                                                   StandardScaler())]),\n",
       "                                                  ['pickup_longitude',\n",
       "                                                   'pickup_latitude',\n",
       "                                                   'dropoff_longitude',\n",
       "                                                   'dropoff_latitude'])])),\n",
       "                ('linear_regression', LinearRegression())])</pre></div></div></div><div class=\"sk-serial\"><div class=\"sk-item sk-dashed-wrapped\"><div class=\"sk-label-container\"><div class=\"sk-label sk-toggleable\"><input class=\"sk-toggleable__control sk-hidden--visually\" id=\"b80fcb86-e1ff-45ca-aee7-9110c789ceae\" type=\"checkbox\" ><label class=\"sk-toggleable__label\" for=\"b80fcb86-e1ff-45ca-aee7-9110c789ceae\">preprocessing: ColumnTransformer</label><div class=\"sk-toggleable__content\"><pre>ColumnTransformer(transformers=[('time_pipe',\n",
       "                                 Pipeline(steps=[('time_encoder',\n",
       "                                                  TimeFeaturesEncoder()),\n",
       "                                                 ('one_hot',\n",
       "                                                  OneHotEncoder(handle_unknown='ignore'))]),\n",
       "                                 ['pickup_datetime']),\n",
       "                                ('dist_pipe',\n",
       "                                 Pipeline(steps=[('dist_transformer',\n",
       "                                                  DistanceTransformer()),\n",
       "                                                 ('std_scaler',\n",
       "                                                  StandardScaler())]),\n",
       "                                 ['pickup_longitude', 'pickup_latitude',\n",
       "                                  'dropoff_longitude', 'dropoff_latitude'])])</pre></div></div></div><div class=\"sk-parallel\"><div class=\"sk-parallel-item\"><div class=\"sk-item\"><div class=\"sk-label-container\"><div class=\"sk-label sk-toggleable\"><input class=\"sk-toggleable__control sk-hidden--visually\" id=\"93947d8d-9ea8-4154-b6cb-076aeb5f3310\" type=\"checkbox\" ><label class=\"sk-toggleable__label\" for=\"93947d8d-9ea8-4154-b6cb-076aeb5f3310\">time_pipe</label><div class=\"sk-toggleable__content\"><pre>['pickup_datetime']</pre></div></div></div><div class=\"sk-serial\"><div class=\"sk-item\"><div class=\"sk-serial\"><div class=\"sk-item\"><div class=\"sk-estimator sk-toggleable\"><input class=\"sk-toggleable__control sk-hidden--visually\" id=\"66e67b70-39da-4e4f-93ae-d1ffff20b22b\" type=\"checkbox\" ><label class=\"sk-toggleable__label\" for=\"66e67b70-39da-4e4f-93ae-d1ffff20b22b\">TimeFeaturesEncoder</label><div class=\"sk-toggleable__content\"><pre>TimeFeaturesEncoder()</pre></div></div></div><div class=\"sk-item\"><div class=\"sk-estimator sk-toggleable\"><input class=\"sk-toggleable__control sk-hidden--visually\" id=\"edd2294a-53d4-4e48-ba4e-36af92010020\" type=\"checkbox\" ><label class=\"sk-toggleable__label\" for=\"edd2294a-53d4-4e48-ba4e-36af92010020\">OneHotEncoder</label><div class=\"sk-toggleable__content\"><pre>OneHotEncoder(handle_unknown='ignore')</pre></div></div></div></div></div></div></div></div><div class=\"sk-parallel-item\"><div class=\"sk-item\"><div class=\"sk-label-container\"><div class=\"sk-label sk-toggleable\"><input class=\"sk-toggleable__control sk-hidden--visually\" id=\"2eee6070-8187-42b8-8110-d10ba657c90e\" type=\"checkbox\" ><label class=\"sk-toggleable__label\" for=\"2eee6070-8187-42b8-8110-d10ba657c90e\">dist_pipe</label><div class=\"sk-toggleable__content\"><pre>['pickup_longitude', 'pickup_latitude', 'dropoff_longitude', 'dropoff_latitude']</pre></div></div></div><div class=\"sk-serial\"><div class=\"sk-item\"><div class=\"sk-serial\"><div class=\"sk-item\"><div class=\"sk-estimator sk-toggleable\"><input class=\"sk-toggleable__control sk-hidden--visually\" id=\"f587ac33-0164-4134-a403-db2aff0f3aa0\" type=\"checkbox\" ><label class=\"sk-toggleable__label\" for=\"f587ac33-0164-4134-a403-db2aff0f3aa0\">DistanceTransformer</label><div class=\"sk-toggleable__content\"><pre>DistanceTransformer()</pre></div></div></div><div class=\"sk-item\"><div class=\"sk-estimator sk-toggleable\"><input class=\"sk-toggleable__control sk-hidden--visually\" id=\"7ca1a9d6-6887-4df4-b4f1-bb9bfa81cd28\" type=\"checkbox\" ><label class=\"sk-toggleable__label\" for=\"7ca1a9d6-6887-4df4-b4f1-bb9bfa81cd28\">StandardScaler</label><div class=\"sk-toggleable__content\"><pre>StandardScaler()</pre></div></div></div></div></div></div></div></div></div></div><div class=\"sk-item\"><div class=\"sk-estimator sk-toggleable\"><input class=\"sk-toggleable__control sk-hidden--visually\" id=\"96543c8a-c1de-472e-96e0-f1f4d31c60af\" type=\"checkbox\" ><label class=\"sk-toggleable__label\" for=\"96543c8a-c1de-472e-96e0-f1f4d31c60af\">LinearRegression</label><div class=\"sk-toggleable__content\"><pre>LinearRegression()</pre></div></div></div></div></div></div></div>"
      ],
      "text/plain": [
       "Pipeline(steps=[('preprocessing',\n",
       "                 ColumnTransformer(transformers=[('time_pipe',\n",
       "                                                  Pipeline(steps=[('time_encoder',\n",
       "                                                                   TimeFeaturesEncoder()),\n",
       "                                                                  ('one_hot',\n",
       "                                                                   OneHotEncoder(handle_unknown='ignore'))]),\n",
       "                                                  ['pickup_datetime']),\n",
       "                                                 ('dist_pipe',\n",
       "                                                  Pipeline(steps=[('dist_transformer',\n",
       "                                                                   DistanceTransformer()),\n",
       "                                                                  ('std_scaler',\n",
       "                                                                   StandardScaler())]),\n",
       "                                                  ['pickup_longitude',\n",
       "                                                   'pickup_latitude',\n",
       "                                                   'dropoff_longitude',\n",
       "                                                   'dropoff_latitude'])])),\n",
       "                ('linear_regression', LinearRegression())])"
      ]
     },
     "execution_count": 18,
     "metadata": {},
     "output_type": "execute_result"
    }
   ],
   "source": [
    "from sklearn.linear_model import LinearRegression\n",
    "\n",
    "# Add the model of your choice to the pipeline nammed pipe\n",
    "pipe = Pipeline([\n",
    "    ('preprocessing',Preprocessor),\n",
    "    ('linear_regression',LinearRegression())\n",
    "\n",
    "])\n",
    "# display the pipeline with model\n",
    "pipe"
   ]
  },
  {
   "cell_type": "markdown",
   "metadata": {},
   "source": [
    "### Training and performance"
   ]
  },
  {
   "cell_type": "markdown",
   "metadata": {},
   "source": [
    "Train the pipelined model and compute the prediction on the test set:"
   ]
  },
  {
   "cell_type": "code",
   "execution_count": 22,
   "metadata": {},
   "outputs": [],
   "source": [
    "# train the pipelined model\n",
    "pipe_trained = pipe.fit(X_train,y_train)\n",
    "\n",
    "\n",
    "# compute y_pred on the test set\n",
    "y_pred = pipe_trained.predict(X_test)"
   ]
  },
  {
   "cell_type": "markdown",
   "metadata": {},
   "source": [
    "Use the RMSE to evaluate the performance of the model:"
   ]
  },
  {
   "cell_type": "code",
   "execution_count": 20,
   "metadata": {},
   "outputs": [],
   "source": [
    "def compute_rmse(y_pred, y_true):\n",
    "    \n",
    "    return np.sqrt(((y_pred - y_true) ** 2).mean()) # A COMPLETER"
   ]
  },
  {
   "cell_type": "code",
   "execution_count": 23,
   "metadata": {
    "scrolled": true
   },
   "outputs": [
    {
     "data": {
      "text/plain": [
       "8.687247165178421"
      ]
     },
     "execution_count": 23,
     "metadata": {},
     "output_type": "execute_result"
    }
   ],
   "source": [
    "# call compute_rmse\n",
    "compute_rmse(y_pred, y_test)"
   ]
  },
  {
   "cell_type": "code",
   "execution_count": 24,
   "metadata": {},
   "outputs": [
    {
     "data": {
      "text/plain": [
       "-0.08617711902031644"
      ]
     },
     "execution_count": 24,
     "metadata": {},
     "output_type": "execute_result"
    }
   ],
   "source": [
    "pipe_trained.score(X_test, y_test)"
   ]
  },
  {
   "cell_type": "markdown",
   "metadata": {},
   "source": [
    "## Complete the workflow with a pipeline"
   ]
  },
  {
   "cell_type": "markdown",
   "metadata": {},
   "source": [
    "Here we will implement the whole workflow for our Taxifare kaggle challenge.\n",
    "\n",
    "For that we will refactor the code in functions for more clarity.\n",
    "\n",
    "Implement the following functions:\n",
    "- `get_data()` to fetch the data \n",
    "- `clean_data()` to clean the data\n",
    "- `get_pipeline()` to get the pipeline defined earlier\n",
    "- `train()` to train our model\n",
    "- `evaluate()` to evaluate our model on test data"
   ]
  },
  {
   "cell_type": "code",
   "execution_count": 31,
   "metadata": {},
   "outputs": [],
   "source": [
    "# implement get_data() function\n",
    "def get_data(nrows=10000):\n",
    "    '''returns a DataFrame with nrows from s3 bucket'''\n",
    "    df = pd.read_csv('../train.csv',sep=',',nrows=nrows)\n",
    "    return df"
   ]
  },
  {
   "cell_type": "code",
   "execution_count": 26,
   "metadata": {},
   "outputs": [],
   "source": [
    "# implement clean_data() function\n",
    "def clean_data(df, test=False):\n",
    "    df = df[\n",
    "        (df.fare_amount > 0) &\n",
    "        (df.passenger_count <= 8) &\n",
    "        (df.passenger_count > 0)&\n",
    "        (df[\"pickup_latitude\"].between(left = 40, right = 42 ))&\n",
    "        (df[\"pickup_longitude\"].between(left = -74.3, right = -72.9 ))&\n",
    "        (df[\"dropoff_latitude\"].between(left = 40, right = 42 ))&\n",
    "        (df[\"dropoff_longitude\"].between(left = -74, right = -72.9 ))\n",
    "\n",
    "        ]\n",
    "    return df"
   ]
  },
  {
   "cell_type": "code",
   "execution_count": 27,
   "metadata": {},
   "outputs": [],
   "source": [
    "# implement set_pipeline() function\n",
    "from sklearn.pipeline import Pipeline\n",
    "from sklearn.preprocessing import StandardScaler\n",
    "from sklearn.preprocessing import OneHotEncoder\n",
    "from sklearn.compose import ColumnTransformer\n",
    "from sklearn.linear_model import LinearRegression\n",
    "\n",
    "def set_pipeline():\n",
    "    dist_pipe = Pipeline([('dist_transformer',DistanceTransformer()),('std_scaler',StandardScaler())])\n",
    "    time_pipe = Pipeline([('time_encoder',TimeFeaturesEncoder()),('one_hot',OneHotEncoder(handle_unknown=\"ignore\"))])\n",
    "\n",
    "    Preprocessor = ColumnTransformer([\n",
    "        ('time_pipe',time_pipe,['pickup_datetime']),\n",
    "        ('dist_pipe',dist_pipe,['pickup_longitude', 'pickup_latitude','dropoff_longitude', 'dropoff_latitude'])\n",
    "        ])\n",
    "\n",
    "    pipe = Pipeline([\n",
    "        ('preprocessing',Preprocessor),\n",
    "        ('linear_regression',LinearRegression())\n",
    "        ])\n",
    "    \n",
    "    return pipe"
   ]
  },
  {
   "cell_type": "code",
   "execution_count": 28,
   "metadata": {},
   "outputs": [],
   "source": [
    "# implement train() function\n",
    "def train(X_train, y_train, pipeline):\n",
    "    pipe_trained = pipeline.fit(X_train,y_train)\n",
    "    return pipe_trained"
   ]
  },
  {
   "cell_type": "code",
   "execution_count": 29,
   "metadata": {},
   "outputs": [],
   "source": [
    "# implement evaluate() function\n",
    "def evaluate(X_test, y_test, pipeline):\n",
    "    y_pred = pipeline.predict(X_test)\n",
    "    rmse = np.sqrt(((y_pred - y_test) ** 2).mean())\n",
    "    print(rmse)\n",
    "    return rmse"
   ]
  },
  {
   "cell_type": "markdown",
   "metadata": {},
   "source": [
    "### Test the complete worflow\n",
    "\n",
    "Use the above functions to test the complete workflow."
   ]
  },
  {
   "cell_type": "code",
   "execution_count": 32,
   "metadata": {},
   "outputs": [
    {
     "name": "stdout",
     "output_type": "stream",
     "text": [
      "11.401003483072019\n"
     ]
    }
   ],
   "source": [
    "# store the data in a DataFrame\n",
    "df = get_data()\n",
    "\n",
    "# set X and y\n",
    "y = df[\"fare_amount\"]\n",
    "X = df.drop(\"fare_amount\", axis=1)\n",
    "\n",
    "# hold out\n",
    "X_train, X_val, y_train, y_val = train_test_split(X, y, test_size=0.15)\n",
    "\n",
    "# build pipeline\n",
    "pipeline = set_pipeline()\n",
    "\n",
    "# train the pipeline\n",
    "train(X_train, y_train, pipeline)\n",
    "\n",
    "# evaluate the pipeline\n",
    "rmse = evaluate(X_val, y_val, pipeline)"
   ]
  },
  {
   "cell_type": "markdown",
   "metadata": {},
   "source": [
    "### Congrats!\n",
    "\n",
    "Now we are ready to convert this complete workflow into a packaged code 🚀"
   ]
  }
 ],
 "metadata": {
  "challengify": {
   "keep_output": true
  },
  "kernelspec": {
   "display_name": "Python 3",
   "language": "python",
   "name": "python3"
  },
  "language_info": {
   "codemirror_mode": {
    "name": "ipython",
    "version": 3
   },
   "file_extension": ".py",
   "mimetype": "text/x-python",
   "name": "python",
   "nbconvert_exporter": "python",
   "pygments_lexer": "ipython3",
   "version": "3.9.8"
  },
  "pycharm": {
   "stem_cell": {
    "cell_type": "raw",
    "metadata": {
     "collapsed": false
    },
    "source": []
   }
  },
  "toc": {
   "base_numbering": 1,
   "nav_menu": {},
   "number_sections": false,
   "sideBar": true,
   "skip_h1_title": false,
   "title_cell": "Table of Contents",
   "title_sidebar": "Contents",
   "toc_cell": false,
   "toc_position": {},
   "toc_section_display": true,
   "toc_window_display": true
  },
  "varInspector": {
   "cols": {
    "lenName": 16,
    "lenType": 16,
    "lenVar": 40
   },
   "kernels_config": {
    "python": {
     "delete_cmd_postfix": "",
     "delete_cmd_prefix": "del ",
     "library": "var_list.py",
     "varRefreshCmd": "print(var_dic_list())"
    },
    "r": {
     "delete_cmd_postfix": ") ",
     "delete_cmd_prefix": "rm(",
     "library": "var_list.r",
     "varRefreshCmd": "cat(var_dic_list()) "
    }
   },
   "position": {
    "height": "244px",
    "left": "1550px",
    "right": "20px",
    "top": "120px",
    "width": "350px"
   },
   "types_to_exclude": [
    "module",
    "function",
    "builtin_function_or_method",
    "instance",
    "_Feature"
   ],
   "window_display": false
  }
 },
 "nbformat": 4,
 "nbformat_minor": 4
}
